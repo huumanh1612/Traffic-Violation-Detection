{
 "cells": [
  {
   "cell_type": "code",
   "execution_count": 1,
   "metadata": {},
   "outputs": [
    {
     "name": "stdout",
     "output_type": "stream",
     "text": [
      "Done!\n"
     ]
    }
   ],
   "source": [
    "import os\n",
    "import random\n",
    "\n",
    "# Đường dẫn tới thư mục chứa các tệp ảnh\n",
    "image_dir = \"D:\\School\\Traffic data\\data\\obj\"\n",
    "\n",
    "# Lấy tất cả các đường dẫn tệp ảnh JPG\n",
    "image_paths = [os.path.join(image_dir, f) for f in os.listdir(image_dir) if f.lower().endswith('.jpg')]\n",
    "\n",
    "# Shuffle các đường dẫn ảnh để đảm bảo tính ngẫu nhiên\n",
    "random.shuffle(image_paths)\n",
    "\n",
    "# Tính số lượng ảnh cho tập train và test\n",
    "num_images = len(image_paths)\n",
    "num_train = int(num_images * 0.9)\n",
    "num_test = num_images - num_train\n",
    "\n",
    "# Chia danh sách đường dẫn thành train và test\n",
    "train_paths = image_paths[:num_train]\n",
    "test_paths = image_paths[num_train:]\n",
    "\n",
    "# Ghi các đường dẫn vào tệp văn bản\n",
    "with open(\"D:/School/Traffic data/data/train.txt\", \"w\") as train_file:\n",
    "    for path in train_paths:\n",
    "        train_file.write(path + \"\\n\")\n",
    "\n",
    "with open(\"D:/School/Traffic data/data/test.txt\", \"w\") as test_file:\n",
    "    for path in test_paths:\n",
    "        test_file.write(path + \"\\n\")\n",
    "\n",
    "print(f\"Done!\")\n"
   ]
  },
  {
   "cell_type": "code",
   "execution_count": null,
   "metadata": {},
   "outputs": [],
   "source": []
  }
 ],
 "metadata": {
  "kernelspec": {
   "display_name": "base",
   "language": "python",
   "name": "python3"
  },
  "language_info": {
   "codemirror_mode": {
    "name": "ipython",
    "version": 3
   },
   "file_extension": ".py",
   "mimetype": "text/x-python",
   "name": "python",
   "nbconvert_exporter": "python",
   "pygments_lexer": "ipython3",
   "version": "3.11.7"
  }
 },
 "nbformat": 4,
 "nbformat_minor": 2
}
