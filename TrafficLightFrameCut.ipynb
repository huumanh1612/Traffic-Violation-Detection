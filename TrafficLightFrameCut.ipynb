{
 "cells": [
  {
   "cell_type": "code",
   "execution_count": 1,
   "metadata": {},
   "outputs": [],
   "source": [
    "import cv2\n",
    "import os\n",
    "\n",
    "# Đường dẫn đến video\n",
    "video_path = 'Assets/Traffic_Data/Traffic_Lights/Green_Light/Green Light 1 - Made with Clipchamp.mp4'\n",
    "\n",
    "# Thư mục lưu các khung hình\n",
    "output_dir = 'D:\\School\\Traffic data\\FrameOfGreenLights'\n",
    "if not os.path.exists(output_dir):\n",
    "    os.makedirs(output_dir)\n",
    "\n",
    "# Đọc video\n",
    "cap = cv2.VideoCapture(video_path)\n",
    "count = 0\n",
    "\n",
    "while cap.isOpened():\n",
    "    ret, frame = cap.read()\n",
    "    if not ret:\n",
    "        break\n",
    "    # Lưu khung hình\n",
    "    frame_path = os.path.join(output_dir, f'frame_{count:04d}.jpg')\n",
    "    cv2.imwrite(frame_path, frame)\n",
    "    count += 1\n",
    "\n",
    "cap.release()\n",
    "cv2.destroyAllWindows()\n"
   ]
  },
  {
   "cell_type": "code",
   "execution_count": null,
   "metadata": {},
   "outputs": [],
   "source": []
  }
 ],
 "metadata": {
  "kernelspec": {
   "display_name": "base",
   "language": "python",
   "name": "python3"
  },
  "language_info": {
   "codemirror_mode": {
    "name": "ipython",
    "version": 3
   },
   "file_extension": ".py",
   "mimetype": "text/x-python",
   "name": "python",
   "nbconvert_exporter": "python",
   "pygments_lexer": "ipython3",
   "version": "3.11.7"
  }
 },
 "nbformat": 4,
 "nbformat_minor": 2
}
