{
 "cells": [
  {
   "cell_type": "code",
   "execution_count": 5,
   "metadata": {},
   "outputs": [
    {
     "name": "stdout",
     "output_type": "stream",
     "text": [
      "Đã tạo và ghi các đường dẫn vào file train.txt\n"
     ]
    }
   ],
   "source": [
    "import os\n",
    "\n",
    "# Đường dẫn đến thư mục chứa các file ảnh JPG\n",
    "folder_path = 'D:\\School\\Traffic data\\data\\obj\\Red'\n",
    "\n",
    "# Tạo và mở file train.txt để ghi đường dẫn\n",
    "with open('train.txt', 'w') as f:\n",
    "    # Lặp qua các file trong thư mục\n",
    "    for filename in os.listdir(folder_path):\n",
    "        if filename.endswith('.jpg') or filename.endswith('.JPG'):\n",
    "            # Lấy đường dẫn đầy đủ của từng file ảnh JPG\n",
    "            file_path = os.path.join(folder_path, filename)\n",
    "            # Ghi đường dẫn vào file train.txt\n",
    "            f.write(file_path + '\\n')\n",
    "\n",
    "print(f'Đã tạo và ghi các đường dẫn vào file train.txt')\n",
    "\n"
   ]
  },
  {
   "cell_type": "code",
   "execution_count": null,
   "metadata": {},
   "outputs": [],
   "source": []
  }
 ],
 "metadata": {
  "kernelspec": {
   "display_name": "base",
   "language": "python",
   "name": "python3"
  },
  "language_info": {
   "codemirror_mode": {
    "name": "ipython",
    "version": 3
   },
   "file_extension": ".py",
   "mimetype": "text/x-python",
   "name": "python",
   "nbconvert_exporter": "python",
   "pygments_lexer": "ipython3",
   "version": "3.11.7"
  }
 },
 "nbformat": 4,
 "nbformat_minor": 2
}
