{
 "cells": [
  {
   "cell_type": "code",
   "execution_count": 6,
   "metadata": {},
   "outputs": [
    {
     "name": "stdout",
     "output_type": "stream",
     "text": [
      "Tạo file .txt thành công cho tất cả các frame ảnh trong thư mục đầu ra.\n"
     ]
    }
   ],
   "source": [
    "import os\n",
    "\n",
    "# Đường dẫn tới thư mục chứa các frame ảnh\n",
    "frames_folder = 'D:\\School\\Traffic data\\FrameOfGreenLights'\n",
    "\n",
    "# Đường dẫn tới thư mục đầu ra cho các file .txt\n",
    "output_folder = 'D:\\School\\Traffic data\\GreenLightRectBoxed'\n",
    "\n",
    "# Tạo thư mục đầu ra nếu chưa tồn tại\n",
    "os.makedirs(output_folder, exist_ok=True)\n",
    "\n",
    "# Danh sách các tên file ảnh (ví dụ: frame1.jpg, frame2.jpg, ...)\n",
    "image_files = [f for f in os.listdir(frames_folder) if f.endswith('.jpg')]\n",
    "\n",
    "# Thông số cần ghi vào file .txt\n",
    "data = \"1 0.422656 0.115741 0.023438 0.127778\"\n",
    "\n",
    "# Tạo file .txt tương ứng cho mỗi frame ảnh\n",
    "for image_file in image_files:\n",
    "    # Tạo tên file .txt từ tên file ảnh\n",
    "    txt_filename = os.path.splitext(image_file)[0] + '.txt'\n",
    "    txt_filepath = os.path.join(output_folder, txt_filename)\n",
    "    \n",
    "    # Ghi dữ liệu vào file .txt\n",
    "    with open(txt_filepath, 'w') as txt_file:\n",
    "        txt_file.write(data)\n",
    "\n",
    "print(\"Done!\")\n"
   ]
  },
  {
   "cell_type": "code",
   "execution_count": null,
   "metadata": {},
   "outputs": [],
   "source": []
  }
 ],
 "metadata": {
  "kernelspec": {
   "display_name": "base",
   "language": "python",
   "name": "python3"
  },
  "language_info": {
   "codemirror_mode": {
    "name": "ipython",
    "version": 3
   },
   "file_extension": ".py",
   "mimetype": "text/x-python",
   "name": "python",
   "nbconvert_exporter": "python",
   "pygments_lexer": "ipython3",
   "version": "3.11.7"
  }
 },
 "nbformat": 4,
 "nbformat_minor": 2
}
