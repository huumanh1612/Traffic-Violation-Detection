{
 "cells": [
  {
   "cell_type": "code",
   "execution_count": 1,
   "metadata": {},
   "outputs": [
    {
     "name": "stdout",
     "output_type": "stream",
     "text": [
      "Requirement already satisfied: opencv-python in c:\\users\\admin\\anaconda3\\lib\\site-packages (4.10.0.82)\n",
      "Requirement already satisfied: pillow in c:\\users\\admin\\anaconda3\\lib\\site-packages (10.2.0)\n",
      "Requirement already satisfied: numpy>=1.21.2 in c:\\users\\admin\\anaconda3\\lib\\site-packages (from opencv-python) (1.26.4)\n",
      "Note: you may need to restart the kernel to use updated packages.\n"
     ]
    }
   ],
   "source": [
    "pip install opencv-python pillow"
   ]
  },
  {
   "cell_type": "code",
   "execution_count": 3,
   "metadata": {},
   "outputs": [
    {
     "name": "stdout",
     "output_type": "stream",
     "text": [
      "Done!\n"
     ]
    }
   ],
   "source": [
    "import os\n",
    "import xml.etree.ElementTree as ET\n",
    "\n",
    "# Đường dẫn tới thư mục chứa hình ảnh và thư mục lưu trữ file XML\n",
    "image_folder = 'D:\\School\\Traffic data\\FrameOfGreenLights'\n",
    "output_folder = 'D:\\School\\Traffic data\\GreenLightRectBoxed'\n",
    "\n",
    "# Tọa độ và kích thước của RectBox\n",
    "xmin = 789\n",
    "ymin = 61\n",
    "xmax = 824\n",
    "ymax = 190\n",
    "\n",
    "# Tạo thư mục lưu trữ file XML nếu chưa tồn tại\n",
    "if not os.path.exists(output_folder):\n",
    "    os.makedirs(output_folder)\n",
    "\n",
    "# Hàm tạo file XML với RectBox\n",
    "def create_xml(image_filename, xml_filename):\n",
    "    annotation = ET.Element(\"annotation\")\n",
    "    \n",
    "    folder = ET.SubElement(annotation, \"folder\")\n",
    "    folder.text = \"Frame of Green Lights\"\n",
    "    \n",
    "    filename = ET.SubElement(annotation, \"filename\")\n",
    "    filename.text = image_filename\n",
    "    \n",
    "    path = ET.SubElement(annotation, \"path\")\n",
    "    path.text = os.path.join(image_folder, image_filename)\n",
    "    \n",
    "    source = ET.SubElement(annotation, \"source\")\n",
    "    database = ET.SubElement(source, \"database\")\n",
    "    database.text = \"Unknown\"\n",
    "    \n",
    "    size = ET.SubElement(annotation, \"size\")\n",
    "    width = ET.SubElement(size, \"width\")\n",
    "    width.text = \"1920\"\n",
    "    height = ET.SubElement(size, \"height\")\n",
    "    height.text = \"1080\"\n",
    "    depth = ET.SubElement(size, \"depth\")\n",
    "    depth.text = \"3\"\n",
    "    \n",
    "    segmented = ET.SubElement(annotation, \"segmented\")\n",
    "    segmented.text = \"0\"\n",
    "    \n",
    "    obj = ET.SubElement(annotation, \"object\")\n",
    "    name = ET.SubElement(obj, \"name\")\n",
    "    name.text = \"GreenLight\"\n",
    "    pose = ET.SubElement(obj, \"pose\")\n",
    "    pose.text = \"Unspecified\"\n",
    "    truncated = ET.SubElement(obj, \"truncated\")\n",
    "    truncated.text = \"0\"\n",
    "    difficult = ET.SubElement(obj, \"difficult\")\n",
    "    difficult.text = \"0\"\n",
    "    \n",
    "    bndbox = ET.SubElement(obj, \"bndbox\")\n",
    "    xmin_elem = ET.SubElement(bndbox, \"xmin\")\n",
    "    xmin_elem.text = str(xmin)\n",
    "    ymin_elem = ET.SubElement(bndbox, \"ymin\")\n",
    "    ymin_elem.text = str(ymin)\n",
    "    xmax_elem = ET.SubElement(bndbox, \"xmax\")\n",
    "    xmax_elem.text = str(xmax)\n",
    "    ymax_elem = ET.SubElement(bndbox, \"ymax\")\n",
    "    ymax_elem.text = str(ymax)\n",
    "    \n",
    "    tree = ET.ElementTree(annotation)\n",
    "    tree.write(xml_filename)\n",
    "\n",
    "# Lặp qua tất cả các file hình ảnh và tạo file XML tương ứng\n",
    "for filename in os.listdir(image_folder):\n",
    "    if filename.endswith('.jpg') or filename.endswith('.png'):  # Chỉ xử lý file ảnh\n",
    "        xml_filename = os.path.join(output_folder, os.path.splitext(filename)[0] + '.xml')\n",
    "        create_xml(filename, xml_filename)\n",
    "\n",
    "print(\"Done!\")\n"
   ]
  },
  {
   "cell_type": "code",
   "execution_count": null,
   "metadata": {},
   "outputs": [],
   "source": []
  }
 ],
 "metadata": {
  "kernelspec": {
   "display_name": "base",
   "language": "python",
   "name": "python3"
  },
  "language_info": {
   "codemirror_mode": {
    "name": "ipython",
    "version": 3
   },
   "file_extension": ".py",
   "mimetype": "text/x-python",
   "name": "python",
   "nbconvert_exporter": "python",
   "pygments_lexer": "ipython3",
   "version": "3.11.7"
  }
 },
 "nbformat": 4,
 "nbformat_minor": 2
}
